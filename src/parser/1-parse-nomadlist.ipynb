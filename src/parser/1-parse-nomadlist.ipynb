{
 "cells": [
  {
   "cell_type": "markdown",
   "id": "0998056b-b720-400f-89e2-8432118b2619",
   "metadata": {},
   "source": [
    "### Parser for NomadList\n",
    "\n",
    "Workout the pipeline to parse website _nomadlist.com_"
   ]
  },
  {
   "cell_type": "code",
   "execution_count": 1,
   "id": "9c346f24-1abc-4d07-9d88-f7ee8d4160fe",
   "metadata": {},
   "outputs": [],
   "source": [
    "from bs4 import BeautifulSoup"
   ]
  },
  {
   "cell_type": "markdown",
   "id": "97af0beb-9a29-4590-a998-bd604093c35b",
   "metadata": {},
   "source": [
    "## Load the page"
   ]
  },
  {
   "cell_type": "code",
   "execution_count": 134,
   "id": "c29da9fd-c3e9-4600-9d86-e2dd0ad427c8",
   "metadata": {},
   "outputs": [],
   "source": [
    "with open(\"example_page.html\") as fid:\n",
    "    webpage = fid.read()"
   ]
  },
  {
   "cell_type": "markdown",
   "id": "f74d244a-29cb-42d7-a7c5-923f93d49391",
   "metadata": {},
   "source": [
    "# Parse the page"
   ]
  },
  {
   "cell_type": "code",
   "execution_count": 135,
   "id": "4d59b89f-f562-4fa2-8e80-a857ff94f4fc",
   "metadata": {},
   "outputs": [],
   "source": [
    "tree = BeautifulSoup(webpage, \"lxml\")"
   ]
  },
  {
   "cell_type": "code",
   "execution_count": 136,
   "id": "58b7f3f2-12b5-4151-9a46-ec626b27c127",
   "metadata": {},
   "outputs": [],
   "source": [
    "res = {}"
   ]
  },
  {
   "cell_type": "markdown",
   "id": "bb82d715-184d-4918-824a-4ca7a504b95e",
   "metadata": {},
   "source": [
    "## Pros and cons"
   ]
  },
  {
   "cell_type": "code",
   "execution_count": 140,
   "id": "ae7e1b9c-efc1-45ab-a5dc-ddf9c21813bc",
   "metadata": {},
   "outputs": [],
   "source": [
    "r = tree.select(\"div[class*=' tab-pros-cons ']\")[0].contents\n",
    "res.update({\"pros\": [c.contents[0][2:] for c in r[0].children],\n",
    "            \"cons\": [c.contents[0][2:] for c in r[1].children]})"
   ]
  },
  {
   "cell_type": "markdown",
   "id": "40bbe6ad-211c-46de-a0b0-44e42b1075fc",
   "metadata": {},
   "source": [
    "## Cost of living"
   ]
  },
  {
   "cell_type": "code",
   "execution_count": 145,
   "id": "a1315319-7de8-4f39-a995-e00d43d23f0d",
   "metadata": {},
   "outputs": [],
   "source": [
    "r = tree.select(\"div[class*=' tab-cost-of-living']\")[0]\n",
    "\n",
    "trs = r.find_all(\"tr\")\n",
    "cost = {}\n",
    "for tr in trs:\n",
    "    l = tr.find_all(\"td\")\n",
    "    \n",
    "    try:\n",
    "        cost.update({l[0].text[2:].strip(): l[1].find(\"span\").attrs.get(\"data-usd\")})\n",
    "    except AttributeError:\n",
    "        cost.update({l[0].text[2:].strip(): l[1].text[1:].replace(\",\", \"\")})"
   ]
  },
  {
   "cell_type": "code",
   "execution_count": 146,
   "id": "a2a5cabb-7605-4725-9265-c217bd037d75",
   "metadata": {},
   "outputs": [],
   "source": [
    "res.update({\"cost\": cost})"
   ]
  },
  {
   "cell_type": "code",
   "execution_count": 147,
   "id": "5628ddc4-412f-44ee-91d0-4f8742e0a7e9",
   "metadata": {},
   "outputs": [
    {
     "data": {
      "text/plain": [
       "{'pros': ['Very safe',\n",
       "  'Fast internet',\n",
       "  'Lots of fun stuff to do',\n",
       "  'Warm now',\n",
       "  'Warm in the spring',\n",
       "  'Perfect humidity now',\n",
       "  'Good air quality on average',\n",
       "  'Nomad List members liked going here',\n",
       "  'Many Nomad List members here all year round',\n",
       "  'Very easy to make friends',\n",
       "  'Very easy to do business',\n",
       "  'High quality of education',\n",
       "  'Roads are very safe',\n",
       "  'Great freedom of speech',\n",
       "  'Democratic',\n",
       "  'Everyone speaks English',\n",
       "  'Safe for women',\n",
       "  'Family friendly',\n",
       "  'Very friendly to LGBTQ+'],\n",
       " 'cons': ['Too expensive',\n",
       "  'Gets cold in the winter',\n",
       "  'Feels crowded',\n",
       "  'Many people smoke tobacco'],\n",
       " 'cost': {'Cost of living for nomad': '3361.3590894531',\n",
       "  'Cost of living for expat': '2316.6267567134',\n",
       "  'Cost of living for family': '4992.0087744593',\n",
       "  'Cost of living for local': '1426.2882212741',\n",
       "  'Hotel (median price)': '103.49647459846',\n",
       "  'Airbnb (median price)': '90.477725815766',\n",
       "  '1br studio rent in center': '1269.8303112194',\n",
       "  'Coworking hot desk': '234.47622619746',\n",
       "  'Dinner': '11.507673468683',\n",
       "  'Coca-Cola (0.3L)': '1.6145604168002',\n",
       "  'Beer (0.5L)': '4.1873931443957',\n",
       "  'Coffee': '1.6470808696982',\n",
       "  'Estimated tax on $50,000': '21514',\n",
       "  'Estimated tax on $100,000': '52994',\n",
       "  'Estimated tax on $250,000': '145334'}}"
      ]
     },
     "execution_count": 147,
     "metadata": {},
     "output_type": "execute_result"
    }
   ],
   "source": [
    "res"
   ]
  },
  {
   "cell_type": "code",
   "execution_count": null,
   "id": "333a5f9a-5583-40c9-9ce1-1a231d87fdf2",
   "metadata": {},
   "outputs": [],
   "source": []
  }
 ],
 "metadata": {
  "kernelspec": {
   "display_name": "general-ds",
   "language": "python",
   "name": "general-ds"
  },
  "language_info": {
   "codemirror_mode": {
    "name": "ipython",
    "version": 3
   },
   "file_extension": ".py",
   "mimetype": "text/x-python",
   "name": "python",
   "nbconvert_exporter": "python",
   "pygments_lexer": "ipython3",
   "version": "3.8.10"
  },
  "toc-autonumbering": true
 },
 "nbformat": 4,
 "nbformat_minor": 5
}
