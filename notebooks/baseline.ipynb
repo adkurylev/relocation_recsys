{
  "cells": [
    {
      "cell_type": "code",
      "execution_count": 300,
      "metadata": {
        "id": "U6bH5plqjmuq"
      },
      "outputs": [],
      "source": [
        "from sklearn.metrics.pairwise import cosine_similarity, cosine_distances, euclidean_distances, rbf_kernel, laplacian_kernel\n",
        "import pandas as pd\n",
        "import numpy as np\n",
        "from sklearn import preprocessing"
      ]
    },
    {
      "cell_type": "code",
      "source": [
        "# bad distances: linear_kernel, polynomial_kernel, sigmoid_kernel\n",
        "# good distances: cosine_similarity/cosine_distance, euclidean_distances, rbf_kernel, laplacian_kernel"
      ],
      "metadata": {
        "id": "f-Zms0HWpGE8"
      },
      "execution_count": 255,
      "outputs": []
    },
    {
      "cell_type": "code",
      "execution_count": 301,
      "metadata": {
        "colab": {
          "base_uri": "https://localhost:8080/"
        },
        "id": "KnNOM39Qjmus",
        "outputId": "4fb1a9d4-8522-49ab-e761-f25be188a570"
      },
      "outputs": [
        {
          "output_type": "execute_result",
          "data": {
            "text/plain": [
              "(764, 30)"
            ]
          },
          "metadata": {},
          "execution_count": 301
        }
      ],
      "source": [
        "# data reading\n",
        "DATA_PATH = \"numbeo.csv\"\n",
        "df = pd.read_csv(DATA_PATH)\n",
        "\n",
        "# data preprocessing\n",
        "df['id'] = df['CountryName'] + \"#\" + df['CityName']\n",
        "m = preprocessing.StandardScaler().fit_transform(df.drop(['CountryName', 'CityName', 'id'],axis=1).values)\n",
        "\n",
        "m.shape"
      ]
    },
    {
      "cell_type": "code",
      "source": [
        "cos_dis = cosine_distances(m, m)\n",
        "cos_dis = 1.0 - (cos_dis / np.max(cos_dis))\n",
        "\n",
        "rbf_ker = rbf_kernel(m, m)\n",
        "rbf_ker = rbf_ker / np.max(rbf_ker)\n",
        "\n",
        "lap_ker = laplacian_kernel(m, m)\n",
        "lap_ker = lap_ker / np.max(lap_ker)\n",
        "\n",
        "euc_dis = euclidean_distances(m, m)\n",
        "euc_dis = 1.0 - (euc_dis / np.max(euc_dis))"
      ],
      "metadata": {
        "id": "_bENScx0vfek"
      },
      "execution_count": 302,
      "outputs": []
    },
    {
      "cell_type": "code",
      "source": [
        "mean_matr = np.zeros(cos_dis.shape)\n",
        "for i in range(mean_matr.shape[0]):\n",
        "    for j in range(mean_matr.shape[1]):\n",
        "\n",
        "        mean_matr[i,j] = (cos_dis[i, j] + rbf_ker[i, j] + \n",
        "                          lap_ker[i, j] + euc_dis[i, j]) / 4.0\n",
        "\n",
        "similarity_matrix = mean_matr"
      ],
      "metadata": {
        "id": "j_1vovTKviyF"
      },
      "execution_count": 303,
      "outputs": []
    },
    {
      "cell_type": "code",
      "execution_count": 305,
      "metadata": {
        "colab": {
          "base_uri": "https://localhost:8080/"
        },
        "id": "W0btqWQUjmuw",
        "outputId": "de131aec-c7b6-498e-82ec-2d18d1a1894e"
      },
      "outputs": [
        {
          "output_type": "stream",
          "name": "stdout",
          "text": [
            "id\n",
            "Albania#Tirana                0\n",
            "Algeria#Algiers               1\n",
            "Angola#Luanda                 2\n",
            "Argentina#Buenos Aires        3\n",
            "Argentina#Cordoba             4\n",
            "                           ... \n",
            "Venezuela#Caracas           759\n",
            "Vietnam#Da Nang             760\n",
            "Vietnam#Hanoi               761\n",
            "Vietnam#Ho Chi Minh City    762\n",
            "Zimbabwe#Harare             763\n",
            "Length: 764, dtype: int64\n"
          ]
        }
      ],
      "source": [
        "mapping = pd.Series(df.index, index=df['id'])\n",
        "print(mapping)"
      ]
    },
    {
      "cell_type": "code",
      "execution_count": 306,
      "metadata": {
        "id": "djXYi2ELjmux"
      },
      "outputs": [],
      "source": [
        "def recsys(id):\n",
        "    index = mapping[id]\n",
        "\n",
        "    similarity_score = list(enumerate(similarity_matrix[index]))\n",
        "    similarity_score = sorted(similarity_score, key=lambda x: x[1], reverse=True)\n",
        "    similarity_score = similarity_score[1:25]\n",
        "\n",
        "    city_indeces = [i[0] for i in similarity_score]\n",
        "\n",
        "    return (df['id'].iloc[city_indeces], similarity_score[0:25])"
      ]
    },
    {
      "cell_type": "code",
      "execution_count": 307,
      "metadata": {
        "colab": {
          "base_uri": "https://localhost:8080/"
        },
        "id": "oEjbHK9Njmux",
        "outputId": "69c0f9b3-bcf2-4007-9c44-874a0ce9466e"
      },
      "outputs": [
        {
          "output_type": "execute_result",
          "data": {
            "text/plain": [
              "(509    Russia#Saint Petersburg\n",
              " 511               Russia#Sochi\n",
              " 500           Russia#Krasnodar\n",
              " 498               Russia#Kazan\n",
              " 510              Russia#Samara\n",
              " 513         Russia#Vladivostok\n",
              " 111             China#Hangzhou\n",
              " 319                 Italy#Rome\n",
              " 469              Poland#Warsaw\n",
              " 506                Russia#Perm\n",
              " 504         Russia#Novosibirsk\n",
              " 120               China#Xiamen\n",
              " 121               China#Zhuhai\n",
              " 499          Russia#Khabarovsk\n",
              " 515       Russia#Yekaterinburg\n",
              " 448         Panama#Panama City\n",
              " 118              China#Tianjin\n",
              " 507      Russia#Rostov-na-donu\n",
              " 110            China#Guangzhou\n",
              " 594           Thailand#Bangkok\n",
              " 514            Russia#Voronezh\n",
              " 380         Mexico#Mexico City\n",
              " 482                 Qatar#Doha\n",
              " 114             China#Shanghai\n",
              " Name: id, dtype: object,\n",
              " [(509, 0.8678341134574866),\n",
              "  (511, 0.7992148345002578),\n",
              "  (500, 0.7524996042717704),\n",
              "  (498, 0.7426671531056478),\n",
              "  (510, 0.7371541580031618),\n",
              "  (513, 0.7349797890743488),\n",
              "  (111, 0.721555804011487),\n",
              "  (319, 0.7165138337758609),\n",
              "  (469, 0.7141223441268015),\n",
              "  (506, 0.7125010299094581),\n",
              "  (504, 0.7124843160568393),\n",
              "  (120, 0.7102706706208064),\n",
              "  (121, 0.6969064859744706),\n",
              "  (499, 0.6956529501108862),\n",
              "  (515, 0.6926701114754679),\n",
              "  (448, 0.6926076165009112),\n",
              "  (118, 0.6923483017655068),\n",
              "  (507, 0.6868923030488955),\n",
              "  (110, 0.6863319090583895),\n",
              "  (594, 0.6819921543221635),\n",
              "  (514, 0.6790397289451091),\n",
              "  (380, 0.6779784684211583),\n",
              "  (482, 0.6778220753329463),\n",
              "  (114, 0.6750050172017901)])"
            ]
          },
          "metadata": {},
          "execution_count": 307
        }
      ],
      "source": [
        "recsys('Russia#Moscow')"
      ]
    },
    {
      "cell_type": "code",
      "execution_count": 194,
      "metadata": {
        "id": "OXSH3wt6jmux"
      },
      "outputs": [],
      "source": []
    }
  ],
  "metadata": {
    "kernelspec": {
      "display_name": "Python 3.10.6 64-bit",
      "language": "python",
      "name": "python3"
    },
    "language_info": {
      "codemirror_mode": {
        "name": "ipython",
        "version": 3
      },
      "file_extension": ".py",
      "mimetype": "text/x-python",
      "name": "python",
      "nbconvert_exporter": "python",
      "pygments_lexer": "ipython3",
      "version": "3.10.6"
    },
    "orig_nbformat": 4,
    "vscode": {
      "interpreter": {
        "hash": "0d2859beb45dd9968c1d74c07ed5bb99ff725817d6d4c47a5aea139339d5b4f0"
      }
    },
    "colab": {
      "provenance": []
    }
  },
  "nbformat": 4,
  "nbformat_minor": 0
}