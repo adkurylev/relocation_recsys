{
 "cells": [
  {
   "cell_type": "code",
   "execution_count": 31,
   "metadata": {},
   "outputs": [],
   "source": [
    "from sklearn.metrics.pairwise import linear_kernel\n",
    "import pandas as pd"
   ]
  },
  {
   "cell_type": "code",
   "execution_count": 32,
   "metadata": {},
   "outputs": [],
   "source": [
    "DATA_PATH = \"../data/final/numbeo.csv\""
   ]
  },
  {
   "cell_type": "code",
   "execution_count": 33,
   "metadata": {},
   "outputs": [],
   "source": [
    "df = pd.read_csv(DATA_PATH)"
   ]
  },
  {
   "cell_type": "code",
   "execution_count": 34,
   "metadata": {},
   "outputs": [],
   "source": [
    "df['id'] = df['CountryName'] + \"#\" + df['CityName']"
   ]
  },
  {
   "cell_type": "code",
   "execution_count": 35,
   "metadata": {},
   "outputs": [],
   "source": [
    "m = df.drop(['CountryName', 'CityName', 'id'],axis=1).values"
   ]
  },
  {
   "cell_type": "code",
   "execution_count": 36,
   "metadata": {},
   "outputs": [
    {
     "data": {
      "text/plain": [
       "(774, 30)"
      ]
     },
     "execution_count": 36,
     "metadata": {},
     "output_type": "execute_result"
    }
   ],
   "source": [
    "m.shape"
   ]
  },
  {
   "cell_type": "code",
   "execution_count": 37,
   "metadata": {},
   "outputs": [],
   "source": [
    "similarity_matrix = linear_kernel(m, m)"
   ]
  },
  {
   "cell_type": "code",
   "execution_count": 38,
   "metadata": {},
   "outputs": [
    {
     "data": {
      "text/plain": [
       "array([[2.91881425e+08, 4.86816152e+08, 3.92422534e+08, ...,\n",
       "        7.42505104e+08, 7.51659070e+08, 4.47236084e+08],\n",
       "       [4.86816152e+08, 8.18593798e+08, 6.53202067e+08, ...,\n",
       "        1.23054772e+09, 1.23931818e+09, 7.38289398e+08],\n",
       "       [3.92422534e+08, 6.53202067e+08, 5.65837070e+08, ...,\n",
       "        9.85010399e+08, 9.95387868e+08, 5.93819162e+08],\n",
       "       ...,\n",
       "       [7.42505104e+08, 1.23054772e+09, 9.85010399e+08, ...,\n",
       "        1.91006291e+09, 1.94399878e+09, 1.15387937e+09],\n",
       "       [7.51659070e+08, 1.23931818e+09, 9.95387868e+08, ...,\n",
       "        1.94399878e+09, 1.98540567e+09, 1.17715129e+09],\n",
       "       [4.47236084e+08, 7.38289398e+08, 5.93819162e+08, ...,\n",
       "        1.15387937e+09, 1.17715129e+09, 6.98504787e+08]])"
      ]
     },
     "execution_count": 38,
     "metadata": {},
     "output_type": "execute_result"
    }
   ],
   "source": [
    "similarity_matrix"
   ]
  },
  {
   "cell_type": "code",
   "execution_count": 39,
   "metadata": {},
   "outputs": [],
   "source": [
    "mapping = pd.Series(df.index, index=df['id'])"
   ]
  },
  {
   "cell_type": "code",
   "execution_count": 40,
   "metadata": {},
   "outputs": [
    {
     "data": {
      "text/plain": [
       "id\n",
       "Albania#Tirana                0\n",
       "Algeria#Algiers               1\n",
       "Angola#Luanda                 2\n",
       "Argentina#Buenos Aires        3\n",
       "Argentina#Cordoba             4\n",
       "                           ... \n",
       "Venezuela#Caracas           769\n",
       "Vietnam#Da Nang             770\n",
       "Vietnam#Hanoi               771\n",
       "Vietnam#Ho Chi Minh City    772\n",
       "Zimbabwe#Harare             773\n",
       "Length: 774, dtype: int64"
      ]
     },
     "execution_count": 40,
     "metadata": {},
     "output_type": "execute_result"
    }
   ],
   "source": [
    "mapping"
   ]
  },
  {
   "cell_type": "code",
   "execution_count": 44,
   "metadata": {},
   "outputs": [],
   "source": [
    "def recsys(id):\n",
    "    index = mapping[id]\n",
    "\n",
    "    similarity_score = list(enumerate(similarity_matrix[index]))\n",
    "    similarity_score = sorted(similarity_score, key=lambda x: x[1], reverse=True)\n",
    "    similarity_score = similarity_score[1:15]\n",
    "\n",
    "    city_indeces = [i[0] for i in similarity_score]\n",
    "\n",
    "    return df['id'].iloc[city_indeces]"
   ]
  },
  {
   "cell_type": "code",
   "execution_count": 45,
   "metadata": {},
   "outputs": [
    {
     "data": {
      "text/plain": [
       "542                Singapore#Singapore\n",
       "303                        Iran#Shiraz\n",
       "304                        Iran#Tabriz\n",
       "300             Iran#Isfahan (Esfahan)\n",
       "152                        Cuba#Havana\n",
       "525                      Russia#Ryazan\n",
       "305                        Iran#Tehran\n",
       "608                   Thailand#Bangkok\n",
       "522                        Russia#Omsk\n",
       "515                       Russia#Kazan\n",
       "754    United States#Santa Barbara, CA\n",
       "527                       Russia#Sochi\n",
       "529                 Russia#Vladivostok\n",
       "82                 Cambodia#Phnom Penh\n",
       "Name: id, dtype: object"
      ]
     },
     "execution_count": 45,
     "metadata": {},
     "output_type": "execute_result"
    }
   ],
   "source": [
    "recsys('Russia#Moscow')"
   ]
  },
  {
   "cell_type": "code",
   "execution_count": null,
   "metadata": {},
   "outputs": [],
   "source": []
  }
 ],
 "metadata": {
  "kernelspec": {
   "display_name": "Python 3.10.6 64-bit",
   "language": "python",
   "name": "python3"
  },
  "language_info": {
   "codemirror_mode": {
    "name": "ipython",
    "version": 3
   },
   "file_extension": ".py",
   "mimetype": "text/x-python",
   "name": "python",
   "nbconvert_exporter": "python",
   "pygments_lexer": "ipython3",
   "version": "3.10.6"
  },
  "orig_nbformat": 4,
  "vscode": {
   "interpreter": {
    "hash": "0d2859beb45dd9968c1d74c07ed5bb99ff725817d6d4c47a5aea139339d5b4f0"
   }
  }
 },
 "nbformat": 4,
 "nbformat_minor": 2
}
