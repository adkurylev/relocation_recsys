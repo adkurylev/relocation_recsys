{
 "cells": [
  {
   "cell_type": "code",
   "execution_count": 159,
   "metadata": {},
   "outputs": [],
   "source": [
    "from sklearn.metrics.pairwise import cosine_similarity\n",
    "from sklearn.metrics.pairwise import euclidean_distances\n",
    "import pandas as pd\n",
    "from sklearn import preprocessing"
   ]
  },
  {
   "cell_type": "code",
   "execution_count": 160,
   "metadata": {},
   "outputs": [],
   "source": [
    "DATA_PATH = \"../data/final/numbeo.csv\""
   ]
  },
  {
   "cell_type": "code",
   "execution_count": 161,
   "metadata": {},
   "outputs": [],
   "source": [
    "df = pd.read_csv(DATA_PATH)"
   ]
  },
  {
   "cell_type": "code",
   "execution_count": 162,
   "metadata": {},
   "outputs": [],
   "source": [
    "df['id'] = df['CountryName'] + \"#\" + df['CityName']"
   ]
  },
  {
   "cell_type": "code",
   "execution_count": 163,
   "metadata": {},
   "outputs": [],
   "source": [
    "m = preprocessing.StandardScaler().fit_transform(df.drop(['CountryName', 'CityName', 'id'],axis=1).values)"
   ]
  },
  {
   "cell_type": "code",
   "execution_count": 164,
   "metadata": {},
   "outputs": [],
   "source": [
    "#m = df.drop(['CountryName', 'CityName', 'id'],axis=1).values"
   ]
  },
  {
   "cell_type": "code",
   "execution_count": 165,
   "metadata": {},
   "outputs": [
    {
     "data": {
      "text/plain": [
       "(764, 30)"
      ]
     },
     "execution_count": 165,
     "metadata": {},
     "output_type": "execute_result"
    }
   ],
   "source": [
    "m.shape"
   ]
  },
  {
   "cell_type": "code",
   "execution_count": 166,
   "metadata": {},
   "outputs": [],
   "source": [
    "similarity_matrix = cosine_similarity(m, m)"
   ]
  },
  {
   "cell_type": "code",
   "execution_count": 167,
   "metadata": {},
   "outputs": [],
   "source": [
    "#similarity_matrix = euclidean_distances(m, m)"
   ]
  },
  {
   "cell_type": "code",
   "execution_count": 168,
   "metadata": {},
   "outputs": [
    {
     "data": {
      "text/plain": [
       "(764, 764)"
      ]
     },
     "execution_count": 168,
     "metadata": {},
     "output_type": "execute_result"
    }
   ],
   "source": [
    "similarity_matrix.shape"
   ]
  },
  {
   "cell_type": "code",
   "execution_count": 169,
   "metadata": {},
   "outputs": [],
   "source": [
    "mapping = pd.Series(df.index, index=df['id'])"
   ]
  },
  {
   "cell_type": "code",
   "execution_count": 170,
   "metadata": {},
   "outputs": [
    {
     "name": "stdout",
     "output_type": "stream",
     "text": [
      "id\n",
      "Albania#Tirana                0\n",
      "Algeria#Algiers               1\n",
      "Angola#Luanda                 2\n",
      "Argentina#Buenos Aires        3\n",
      "Argentina#Cordoba             4\n",
      "                           ... \n",
      "Venezuela#Caracas           759\n",
      "Vietnam#Da Nang             760\n",
      "Vietnam#Hanoi               761\n",
      "Vietnam#Ho Chi Minh City    762\n",
      "Zimbabwe#Harare             763\n",
      "Length: 764, dtype: int64\n"
     ]
    }
   ],
   "source": [
    "print(mapping)"
   ]
  },
  {
   "cell_type": "code",
   "execution_count": 174,
   "metadata": {},
   "outputs": [],
   "source": [
    "def recsys(id):\n",
    "    index = mapping[id]\n",
    "\n",
    "    similarity_score = list(enumerate(similarity_matrix[index]))\n",
    "    similarity_score = sorted(similarity_score, key=lambda x: x[1], reverse=True)\n",
    "    similarity_score = similarity_score[1:15]\n",
    "\n",
    "    city_indeces = [i[0] for i in similarity_score]\n",
    "\n",
    "    return (df['id'].iloc[city_indeces], similarity_score[0:15])"
   ]
  },
  {
   "cell_type": "code",
   "execution_count": 175,
   "metadata": {},
   "outputs": [
    {
     "data": {
      "text/plain": [
       "(509          Russia#Saint Petersburg\n",
       " 511                     Russia#Sochi\n",
       " 114                   China#Shanghai\n",
       " 107                    China#Beijing\n",
       " 500                 Russia#Krasnodar\n",
       " 120                     China#Xiamen\n",
       " 2                      Angola#Luanda\n",
       " 426                    Nigeria#Abuja\n",
       " 116                   China#Shenzhen\n",
       " 121                     China#Zhuhai\n",
       " 541                South Korea#Seoul\n",
       " 111                   China#Hangzhou\n",
       " 513               Russia#Vladivostok\n",
       " 714    United States#Los Angeles, CA\n",
       " Name: id, dtype: object,\n",
       " [(509, 0.7885867745597817),\n",
       "  (511, 0.6596733954845088),\n",
       "  (114, 0.6375170162272524),\n",
       "  (107, 0.596545563029962),\n",
       "  (500, 0.5673480157809939),\n",
       "  (120, 0.54208343602051),\n",
       "  (2, 0.5309696402264292),\n",
       "  (426, 0.5258845460428975),\n",
       "  (116, 0.5135759944251025),\n",
       "  (121, 0.5047590960182988),\n",
       "  (541, 0.5008808780685103),\n",
       "  (111, 0.4959831341283666),\n",
       "  (513, 0.4952796392434642),\n",
       "  (714, 0.4852077662873495)])"
      ]
     },
     "execution_count": 175,
     "metadata": {},
     "output_type": "execute_result"
    }
   ],
   "source": [
    "recsys('Russia#Moscow')"
   ]
  },
  {
   "cell_type": "code",
   "execution_count": null,
   "metadata": {},
   "outputs": [],
   "source": []
  }
 ],
 "metadata": {
  "kernelspec": {
   "display_name": "Python 3.10.6 64-bit",
   "language": "python",
   "name": "python3"
  },
  "language_info": {
   "codemirror_mode": {
    "name": "ipython",
    "version": 3
   },
   "file_extension": ".py",
   "mimetype": "text/x-python",
   "name": "python",
   "nbconvert_exporter": "python",
   "pygments_lexer": "ipython3",
   "version": "3.10.6"
  },
  "orig_nbformat": 4,
  "vscode": {
   "interpreter": {
    "hash": "0d2859beb45dd9968c1d74c07ed5bb99ff725817d6d4c47a5aea139339d5b4f0"
   }
  }
 },
 "nbformat": 4,
 "nbformat_minor": 2
}
